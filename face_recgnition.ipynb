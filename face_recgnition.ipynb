{
  "nbformat": 4,
  "nbformat_minor": 0,
  "metadata": {
    "colab": {
      "name": "face-recgnition.ipynb",
      "provenance": [],
      "private_outputs": true,
      "authorship_tag": "ABX9TyOBh543ylwXjHGz1npo+vVJ",
      "include_colab_link": true
    },
    "kernelspec": {
      "name": "python3",
      "display_name": "Python 3"
    },
    "accelerator": "GPU"
  },
  "cells": [
    {
      "cell_type": "markdown",
      "metadata": {
        "id": "view-in-github",
        "colab_type": "text"
      },
      "source": [
        "<a href=\"https://colab.research.google.com/github/HiteshAI/face-recognition-demo/blob/master/face_recgnition.ipynb\" target=\"_parent\"><img src=\"https://colab.research.google.com/assets/colab-badge.svg\" alt=\"Open In Colab\"/></a>"
      ]
    },
    {
      "cell_type": "markdown",
      "metadata": {
        "id": "PRdHveOTer8v",
        "colab_type": "text"
      },
      "source": [
        "This is an example of running face recognition on a single image\n",
        "and drawing a box around each person that was identified."
      ]
    },
    {
      "cell_type": "markdown",
      "metadata": {
        "id": "4flBoTOkhMVy",
        "colab_type": "text"
      },
      "source": [
        "# **Import necessary libraries**"
      ]
    },
    {
      "cell_type": "code",
      "metadata": {
        "id": "BqEdABAKr8sI",
        "colab_type": "code",
        "colab": {}
      },
      "source": [
        "from PIL import Image, ImageDraw\n",
        "from IPython.display import display\n",
        "import numpy as np\n",
        "!sudo pip install -v --install-option=\"--no\" --install-option=\"DLIB_USE_CUDA\" dlib\n",
        "!pip3 install face_recognition\n",
        "import face_recognition"
      ],
      "execution_count": 0,
      "outputs": []
    },
    {
      "cell_type": "code",
      "metadata": {
        "id": "MG7pYuXBqaHH",
        "colab_type": "code",
        "colab": {}
      },
      "source": [
        "detect_image = 'all3.jpg'\n",
        "face_1 = 'kp.jpg'\n",
        "face_2 = 'pd.jpg'\n",
        "face_3 = 'deuba.jpg'\n"
      ],
      "execution_count": 0,
      "outputs": []
    },
    {
      "cell_type": "markdown",
      "metadata": {
        "id": "RMHy15pCeawE",
        "colab_type": "text"
      },
      "source": [
        "# **Encode known faces**"
      ]
    },
    {
      "cell_type": "code",
      "metadata": {
        "id": "4XYsdwateosV",
        "colab_type": "code",
        "colab": {}
      },
      "source": [
        "# Load a first picture and learn how to recognize it.\n",
        "kp_image = face_recognition.load_image_file(face_1)\n",
        "kp_face_encoding = face_recognition.face_encodings(kp_image)[0]\n",
        "\n",
        "# Load second sample picture and learn how to recognize it.\n",
        "pd_image = face_recognition.load_image_file(face_2)\n",
        "pd_face_encoding = face_recognition.face_encodings(pd_image)[0]\n",
        "\n",
        "# Load third sample picture and learn how to recognize it.\n",
        "deuba_image = face_recognition.load_image_file(face_3)\n",
        "deuba_face_encoding = face_recognition.face_encodings(deuba_image)[0]\n"
      ],
      "execution_count": 0,
      "outputs": []
    },
    {
      "cell_type": "markdown",
      "metadata": {
        "id": "JJk6Yj5Efory",
        "colab_type": "text"
      },
      "source": [
        "# **Create array of encodings and labels for known faces**"
      ]
    },
    {
      "cell_type": "code",
      "metadata": {
        "id": "zf5UjTd-qhVB",
        "colab_type": "code",
        "colab": {}
      },
      "source": [
        "# Create arrays of known face encodings and their names\n",
        "known_face_encodings = [\n",
        "    kp_face_encoding,\n",
        "    pd_face_encoding,\n",
        "    deuba_face_encoding\n",
        "]\n",
        "known_face_names = [\n",
        "    'KP Oli',\n",
        "    'Prachanda',\n",
        "    'Deuba'\n",
        "]\n",
        "print('Learned encoding for', len(known_face_encodings), 'images.')"
      ],
      "execution_count": 0,
      "outputs": []
    },
    {
      "cell_type": "markdown",
      "metadata": {
        "id": "w2leK2Rffz_W",
        "colab_type": "text"
      },
      "source": [
        "# **Load unknown image, find faces and encode them**"
      ]
    },
    {
      "cell_type": "code",
      "metadata": {
        "id": "mzlimUfNgFSV",
        "colab_type": "code",
        "colab": {}
      },
      "source": [
        "# Load an image with an unknown face\n",
        "unknown_image = face_recognition.load_image_file(detect_image)\n",
        "\n",
        "# Find all the faces and face encodings in the unknown image\n",
        "face_locations = face_recognition.face_locations(unknown_image)\n",
        "face_encodings = face_recognition.face_encodings(unknown_image, face_locations)\n",
        "\n",
        "# Convert the image to a PIL-format image so that we can draw on top of it with the Pillow library\n",
        "# See http://pillow.readthedocs.io/ for more about PIL/Pillow\n",
        "pil_image = Image.fromarray(unknown_image)\n",
        "# Create a Pillow ImageDraw Draw instance to draw with\n",
        "draw = ImageDraw.Draw(pil_image)\n"
      ],
      "execution_count": 0,
      "outputs": []
    },
    {
      "cell_type": "markdown",
      "metadata": {
        "id": "_2L7XS34gRiC",
        "colab_type": "text"
      },
      "source": [
        "# **Comparision**"
      ]
    },
    {
      "cell_type": "code",
      "metadata": {
        "id": "3K1X7mYWtQvk",
        "colab_type": "code",
        "colab": {}
      },
      "source": [
        "# Loop through each face found in the unknown image\n",
        "for (top, right, bottom, left), face_encoding in zip(face_locations, face_encodings):\n",
        "    # See if the face is a match for the known face(s)\n",
        "    matches = face_recognition.compare_faces(known_face_encodings, face_encoding)\n",
        "    name = \"Unknown\"\n",
        "    face_distances = face_recognition.face_distance(known_face_encodings, face_encoding)\n",
        "    best_match_index = np.argmin(face_distances)\n",
        "\n",
        "    if matches[best_match_index]:\n",
        "        name = known_face_names[best_match_index]\n",
        "\n",
        "    # Draw a box around the face using the Pillow module\n",
        "    draw.rectangle(((left, top), (right, bottom)), outline=(0, 0, 255))\n",
        "\n",
        "    # Draw a label with a name below the face\n",
        "    text_width, text_height = draw.textsize(name)\n",
        "    draw.rectangle(((left, bottom - text_height - 10), (right, bottom)), fill=(0, 0, 255), outline=(0, 0, 255))\n",
        "    draw.text((left + 6, bottom - text_height - 5), name, fill=(255, 255, 255, 255))\n",
        "\n",
        "\n",
        "# Remove the drawing library from memory as per the Pillow docs\n",
        "del draw\n",
        "\n",
        "# Display the resulting image\n",
        "display(pil_image)"
      ],
      "execution_count": 0,
      "outputs": []
    },
    {
      "cell_type": "markdown",
      "metadata": {
        "id": "6f1ubJnAhVvG",
        "colab_type": "text"
      },
      "source": [
        "# **How it works**\n",
        "\n",
        "If you want to learn how face location and recognition work instead of depending on a black box library, read this article https://medium.com/@ageitgey/machine-learning-is-fun-part-4-modern-face-recognition-with-deep-learning-c3cffc121d78"
      ]
    }
  ]
}